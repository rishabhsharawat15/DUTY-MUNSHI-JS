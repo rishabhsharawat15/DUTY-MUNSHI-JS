{
 "cells": [
  {
   "cell_type": "code",
   "execution_count": 4,
   "metadata": {},
   "outputs": [],
   "source": [
    "import pandas as pd\n",
    "df = pd.read_excel(\"./pro.xlsx\")"
   ]
  },
  {
   "cell_type": "code",
   "execution_count": 5,
   "metadata": {},
   "outputs": [
    {
     "data": {
      "text/html": [
       "<div>\n",
       "<style scoped>\n",
       "    .dataframe tbody tr th:only-of-type {\n",
       "        vertical-align: middle;\n",
       "    }\n",
       "\n",
       "    .dataframe tbody tr th {\n",
       "        vertical-align: top;\n",
       "    }\n",
       "\n",
       "    .dataframe thead th {\n",
       "        text-align: right;\n",
       "    }\n",
       "</style>\n",
       "<table border=\"1\" class=\"dataframe\">\n",
       "  <thead>\n",
       "    <tr style=\"text-align: right;\">\n",
       "      <th></th>\n",
       "      <th>Name</th>\n",
       "      <th>Rank</th>\n",
       "      <th>Location</th>\n",
       "      <th>Priority Location</th>\n",
       "      <th>Home Location</th>\n",
       "    </tr>\n",
       "  </thead>\n",
       "  <tbody>\n",
       "    <tr>\n",
       "      <th>0</th>\n",
       "      <td>Shri Naresh Chand</td>\n",
       "      <td>S.I.</td>\n",
       "      <td>Noida</td>\n",
       "      <td>Sector-128</td>\n",
       "      <td>Bathinda</td>\n",
       "    </tr>\n",
       "    <tr>\n",
       "      <th>1</th>\n",
       "      <td>Kishori Lal</td>\n",
       "      <td>Constable</td>\n",
       "      <td>Noida</td>\n",
       "      <td>Sector-128</td>\n",
       "      <td>Ahemdabad</td>\n",
       "    </tr>\n",
       "    <tr>\n",
       "      <th>2</th>\n",
       "      <td>Neelam</td>\n",
       "      <td>Constable</td>\n",
       "      <td>Noida</td>\n",
       "      <td>Sector-128</td>\n",
       "      <td>Shahjanpr</td>\n",
       "    </tr>\n",
       "    <tr>\n",
       "      <th>3</th>\n",
       "      <td>Rakesh Kumar</td>\n",
       "      <td>S.I.</td>\n",
       "      <td>Chandigarh</td>\n",
       "      <td>Elante mall</td>\n",
       "      <td>Aligarh</td>\n",
       "    </tr>\n",
       "    <tr>\n",
       "      <th>4</th>\n",
       "      <td>Mahesh</td>\n",
       "      <td>Constable</td>\n",
       "      <td>Chandigarh</td>\n",
       "      <td>Elante mall</td>\n",
       "      <td>Kanpur</td>\n",
       "    </tr>\n",
       "    <tr>\n",
       "      <th>5</th>\n",
       "      <td>Kuldeep</td>\n",
       "      <td>Constable</td>\n",
       "      <td>Chandigarh</td>\n",
       "      <td>Elante mall</td>\n",
       "      <td>Bihar</td>\n",
       "    </tr>\n",
       "    <tr>\n",
       "      <th>6</th>\n",
       "      <td>Rohit Kumar</td>\n",
       "      <td>S.I.</td>\n",
       "      <td>Delhi</td>\n",
       "      <td>Lajpat Nagar</td>\n",
       "      <td>Gujarat</td>\n",
       "    </tr>\n",
       "    <tr>\n",
       "      <th>7</th>\n",
       "      <td>Anuj Sharma</td>\n",
       "      <td>Constable</td>\n",
       "      <td>Delhi</td>\n",
       "      <td>Lajpat Nagar</td>\n",
       "      <td>Jharkhand</td>\n",
       "    </tr>\n",
       "    <tr>\n",
       "      <th>8</th>\n",
       "      <td>vijay</td>\n",
       "      <td>Constable</td>\n",
       "      <td>Delhi</td>\n",
       "      <td>Lajpat Nagar</td>\n",
       "      <td>Tamil Nadu</td>\n",
       "    </tr>\n",
       "    <tr>\n",
       "      <th>9</th>\n",
       "      <td>Deepa Malik</td>\n",
       "      <td>S.I.</td>\n",
       "      <td>Noida</td>\n",
       "      <td>Sector-62</td>\n",
       "      <td>Mohali</td>\n",
       "    </tr>\n",
       "    <tr>\n",
       "      <th>10</th>\n",
       "      <td>Parul</td>\n",
       "      <td>Constable</td>\n",
       "      <td>Noida</td>\n",
       "      <td>Sector-62</td>\n",
       "      <td>Rajpura</td>\n",
       "    </tr>\n",
       "    <tr>\n",
       "      <th>11</th>\n",
       "      <td>Ashok Kumar</td>\n",
       "      <td>Constable</td>\n",
       "      <td>Noida</td>\n",
       "      <td>Sector-62</td>\n",
       "      <td>Bathinda</td>\n",
       "    </tr>\n",
       "    <tr>\n",
       "      <th>12</th>\n",
       "      <td>Dinesh Kumar</td>\n",
       "      <td>S.I.</td>\n",
       "      <td>Ludhiana</td>\n",
       "      <td>Hardy's World</td>\n",
       "      <td>Patiala</td>\n",
       "    </tr>\n",
       "    <tr>\n",
       "      <th>13</th>\n",
       "      <td>Archana</td>\n",
       "      <td>Constable</td>\n",
       "      <td>Ludhiana</td>\n",
       "      <td>Hardy's World</td>\n",
       "      <td>Shimla</td>\n",
       "    </tr>\n",
       "    <tr>\n",
       "      <th>14</th>\n",
       "      <td>Vikas Rana</td>\n",
       "      <td>Constable</td>\n",
       "      <td>Ludhiana</td>\n",
       "      <td>Hardy's World</td>\n",
       "      <td>Moga</td>\n",
       "    </tr>\n",
       "    <tr>\n",
       "      <th>15</th>\n",
       "      <td>Anjali Tiwari</td>\n",
       "      <td>S.I.</td>\n",
       "      <td>Noida</td>\n",
       "      <td>Sector-18</td>\n",
       "      <td>Gwalior</td>\n",
       "    </tr>\n",
       "    <tr>\n",
       "      <th>16</th>\n",
       "      <td>Sandeep Kumar</td>\n",
       "      <td>Constable</td>\n",
       "      <td>Noida</td>\n",
       "      <td>Sector-18</td>\n",
       "      <td>Mathura</td>\n",
       "    </tr>\n",
       "    <tr>\n",
       "      <th>17</th>\n",
       "      <td>Rajat</td>\n",
       "      <td>Constable</td>\n",
       "      <td>Noida</td>\n",
       "      <td>Sector-18</td>\n",
       "      <td>Bharatpur</td>\n",
       "    </tr>\n",
       "  </tbody>\n",
       "</table>\n",
       "</div>"
      ],
      "text/plain": [
       "                 Name       Rank    Location Priority Location Home Location\n",
       "0   Shri Naresh Chand       S.I.       Noida        Sector-128      Bathinda\n",
       "1         Kishori Lal  Constable       Noida        Sector-128     Ahemdabad\n",
       "2              Neelam  Constable       Noida        Sector-128     Shahjanpr\n",
       "3        Rakesh Kumar       S.I.  Chandigarh       Elante mall       Aligarh\n",
       "4              Mahesh  Constable  Chandigarh       Elante mall        Kanpur\n",
       "5             Kuldeep  Constable  Chandigarh       Elante mall         Bihar\n",
       "6         Rohit Kumar       S.I.       Delhi      Lajpat Nagar       Gujarat\n",
       "7         Anuj Sharma  Constable       Delhi      Lajpat Nagar     Jharkhand\n",
       "8               vijay  Constable       Delhi      Lajpat Nagar    Tamil Nadu\n",
       "9         Deepa Malik       S.I.       Noida         Sector-62        Mohali\n",
       "10              Parul  Constable       Noida         Sector-62       Rajpura\n",
       "11        Ashok Kumar  Constable       Noida         Sector-62      Bathinda\n",
       "12       Dinesh Kumar       S.I.    Ludhiana     Hardy's World       Patiala\n",
       "13            Archana  Constable    Ludhiana     Hardy's World        Shimla\n",
       "14         Vikas Rana  Constable    Ludhiana     Hardy's World          Moga\n",
       "15      Anjali Tiwari       S.I.       Noida         Sector-18       Gwalior\n",
       "16      Sandeep Kumar  Constable       Noida         Sector-18       Mathura\n",
       "17              Rajat  Constable       Noida         Sector-18     Bharatpur"
      ]
     },
     "execution_count": 5,
     "metadata": {},
     "output_type": "execute_result"
    }
   ],
   "source": [
    "df = df.iloc[0:18]\n",
    "df"
   ]
  },
  {
   "cell_type": "code",
   "execution_count": 6,
   "metadata": {},
   "outputs": [
    {
     "data": {
      "text/plain": [
       "Index(['Elante mall', 'Hardy's World', 'Lajpat Nagar', 'Sector-128',\n",
       "       'Sector-18', 'Sector-62'],\n",
       "      dtype='object', name='Priority Location')"
      ]
     },
     "execution_count": 6,
     "metadata": {},
     "output_type": "execute_result"
    }
   ],
   "source": [
    "df1 = df.groupby([\"Priority Location\"])[\"Priority Location\"].count()\n",
    "dfindex = (df1.T).index\n",
    "dfindex"
   ]
  },
  {
   "cell_type": "code",
   "execution_count": 7,
   "metadata": {},
   "outputs": [
    {
     "data": {
      "text/html": [
       "<div>\n",
       "<style scoped>\n",
       "    .dataframe tbody tr th:only-of-type {\n",
       "        vertical-align: middle;\n",
       "    }\n",
       "\n",
       "    .dataframe tbody tr th {\n",
       "        vertical-align: top;\n",
       "    }\n",
       "\n",
       "    .dataframe thead th {\n",
       "        text-align: right;\n",
       "    }\n",
       "</style>\n",
       "<table border=\"1\" class=\"dataframe\">\n",
       "  <thead>\n",
       "    <tr style=\"text-align: right;\">\n",
       "      <th></th>\n",
       "      <th>Name</th>\n",
       "      <th>Rank</th>\n",
       "      <th>Location</th>\n",
       "      <th>Priority Location</th>\n",
       "      <th>Home Location</th>\n",
       "    </tr>\n",
       "  </thead>\n",
       "  <tbody>\n",
       "    <tr>\n",
       "      <th>0</th>\n",
       "      <td>Shri Naresh Chand</td>\n",
       "      <td>S.I.</td>\n",
       "      <td>Noida</td>\n",
       "      <td>Sector-128</td>\n",
       "      <td>Bathinda</td>\n",
       "    </tr>\n",
       "    <tr>\n",
       "      <th>3</th>\n",
       "      <td>Rakesh Kumar</td>\n",
       "      <td>S.I.</td>\n",
       "      <td>Chandigarh</td>\n",
       "      <td>Elante mall</td>\n",
       "      <td>Aligarh</td>\n",
       "    </tr>\n",
       "    <tr>\n",
       "      <th>6</th>\n",
       "      <td>Rohit Kumar</td>\n",
       "      <td>S.I.</td>\n",
       "      <td>Delhi</td>\n",
       "      <td>Lajpat Nagar</td>\n",
       "      <td>Gujarat</td>\n",
       "    </tr>\n",
       "    <tr>\n",
       "      <th>9</th>\n",
       "      <td>Deepa Malik</td>\n",
       "      <td>S.I.</td>\n",
       "      <td>Noida</td>\n",
       "      <td>Sector-62</td>\n",
       "      <td>Mohali</td>\n",
       "    </tr>\n",
       "    <tr>\n",
       "      <th>12</th>\n",
       "      <td>Dinesh Kumar</td>\n",
       "      <td>S.I.</td>\n",
       "      <td>Ludhiana</td>\n",
       "      <td>Hardy's World</td>\n",
       "      <td>Patiala</td>\n",
       "    </tr>\n",
       "    <tr>\n",
       "      <th>15</th>\n",
       "      <td>Anjali Tiwari</td>\n",
       "      <td>S.I.</td>\n",
       "      <td>Noida</td>\n",
       "      <td>Sector-18</td>\n",
       "      <td>Gwalior</td>\n",
       "    </tr>\n",
       "  </tbody>\n",
       "</table>\n",
       "</div>"
      ],
      "text/plain": [
       "                 Name  Rank    Location Priority Location Home Location\n",
       "0   Shri Naresh Chand  S.I.       Noida        Sector-128      Bathinda\n",
       "3        Rakesh Kumar  S.I.  Chandigarh       Elante mall       Aligarh\n",
       "6         Rohit Kumar  S.I.       Delhi      Lajpat Nagar       Gujarat\n",
       "9         Deepa Malik  S.I.       Noida         Sector-62        Mohali\n",
       "12       Dinesh Kumar  S.I.    Ludhiana     Hardy's World       Patiala\n",
       "15      Anjali Tiwari  S.I.       Noida         Sector-18       Gwalior"
      ]
     },
     "execution_count": 7,
     "metadata": {},
     "output_type": "execute_result"
    }
   ],
   "source": [
    "dfsi = df[(df[\"Rank\"]== \"S.I.\")]\n",
    "dfsi"
   ]
  },
  {
   "cell_type": "code",
   "execution_count": 8,
   "metadata": {},
   "outputs": [
    {
     "data": {
      "text/plain": [
       "['Shri Naresh Chand',\n",
       " 'Rakesh Kumar',\n",
       " 'Rohit Kumar',\n",
       " 'Deepa Malik',\n",
       " 'Dinesh Kumar',\n",
       " 'Anjali Tiwari']"
      ]
     },
     "execution_count": 8,
     "metadata": {},
     "output_type": "execute_result"
    }
   ],
   "source": [
    "\n",
    "\n",
    "dfs = dfsi[\"Name\"]\n",
    "dfs = dfs.to_list()\n",
    "dfs"
   ]
  },
  {
   "cell_type": "code",
   "execution_count": 11,
   "metadata": {},
   "outputs": [
    {
     "data": {
      "text/plain": [
       "{'Chandigarh': 1, 'Delhi': 1, 'Ludhiana': 1, 'Noida': 3}"
      ]
     },
     "execution_count": 11,
     "metadata": {},
     "output_type": "execute_result"
    }
   ],
   "source": [
    "loc = df.groupby([\"Location\"])[\"Location\"].count().to_dict()\n",
    "locS = {}\n",
    "for i in loc.keys():\n",
    "    nme = i\n",
    "    dfc = df[(df[\"Location\"]==i) & (df[\"Rank\"]==\"S.I.\")]\n",
    "    val = dfc.shape[0]\n",
    "    locS[nme]= val \n",
    "\n",
    "locS\n",
    "\n",
    "\n",
    "     \n"
   ]
  },
  {
   "cell_type": "code",
   "execution_count": 51,
   "metadata": {},
   "outputs": [
    {
     "ename": "AttributeError",
     "evalue": "type object 'Empty' has no attribute 'append'",
     "output_type": "error",
     "traceback": [
      "\u001b[1;31m---------------------------------------------------------------------------\u001b[0m",
      "\u001b[1;31mAttributeError\u001b[0m                            Traceback (most recent call last)",
      "\u001b[1;32mc:\\Users\\PC\\Desktop\\duty monshi\\code\\test.ipynb Cell 7\u001b[0m in \u001b[0;36m<cell line: 8>\u001b[1;34m()\u001b[0m\n\u001b[0;32m     <a href='vscode-notebook-cell:/c%3A/Users/PC/Desktop/duty%20monshi/code/test.ipynb#W6sZmlsZQ%3D%3D?line=9'>10</a>\u001b[0m     c \u001b[39m=\u001b[39mi\n\u001b[0;32m     <a href='vscode-notebook-cell:/c%3A/Users/PC/Desktop/duty%20monshi/code/test.ipynb#W6sZmlsZQ%3D%3D?line=10'>11</a>\u001b[0m     cordi \u001b[39m=\u001b[39m geocoder\u001b[39m.\u001b[39mgeocode(c)\n\u001b[1;32m---> <a href='vscode-notebook-cell:/c%3A/Users/PC/Desktop/duty%20monshi/code/test.ipynb#W6sZmlsZQ%3D%3D?line=11'>12</a>\u001b[0m     lonlat\u001b[39m.\u001b[39;49mappend((cordi\u001b[39m.\u001b[39mlatitude,cordi\u001b[39m.\u001b[39mlongitude))\n\u001b[0;32m     <a href='vscode-notebook-cell:/c%3A/Users/PC/Desktop/duty%20monshi/code/test.ipynb#W6sZmlsZQ%3D%3D?line=13'>14</a>\u001b[0m \u001b[39mprint\u001b[39m(lonlat)\n",
      "\u001b[1;31mAttributeError\u001b[0m: type object 'Empty' has no attribute 'append'"
     ]
    }
   ],
   "source": [
    "from queue import Empty\n",
    "import string\n",
    "from geopy.geocoders import Nominatim #to get the cordinates\n",
    "from geopy import distance # to get the distance b/w the location\n",
    "geocoder = Nominatim(user_agent=\"i known the python\")\n",
    "\n",
    "\n",
    "for i  in locS.keys():\n",
    "    c = string\n",
    "    c =i\n",
    "    cordi = geocoder.geocode(c)\n",
    "    lonlat.append((cordi.latitude,cordi.longitude))\n",
    "\n",
    "print(lonlat)\n",
    "\n"
   ]
  },
  {
   "cell_type": "code",
   "execution_count": null,
   "metadata": {},
   "outputs": [],
   "source": []
  }
 ],
 "metadata": {
  "kernelspec": {
   "display_name": "Python 3.10.6 64-bit",
   "language": "python",
   "name": "python3"
  },
  "language_info": {
   "codemirror_mode": {
    "name": "ipython",
    "version": 3
   },
   "file_extension": ".py",
   "mimetype": "text/x-python",
   "name": "python",
   "nbconvert_exporter": "python",
   "pygments_lexer": "ipython3",
   "version": "3.10.6"
  },
  "orig_nbformat": 4,
  "vscode": {
   "interpreter": {
    "hash": "e593ac106456af50ce7af38f9671c411b49d6cd90f9b885e167f0f594e09038c"
   }
  }
 },
 "nbformat": 4,
 "nbformat_minor": 2
}
